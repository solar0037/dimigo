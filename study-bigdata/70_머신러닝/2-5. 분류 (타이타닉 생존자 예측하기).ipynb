{
 "cells": [
  {
   "cell_type": "markdown",
   "metadata": {
    "id": "gDZtQMdNLIm6"
   },
   "source": [
    "# 1. 복습하기\n",
    "\n",
    "* ( 피쳐 스케일링  ) : 서로 다른 변수의 값의 범위를 일정한 수준으로 맞추는 작업으로 ( 정규화  )와 ( 표준화  )가 있습니다.\n",
    "\n",
    "* ( 정규화  ) : 최소 ~ 최대 범위로 스케일 변환을 하는 것으로 대부분 0 ~ 1 범위에 맞추는 것을 의미합니다. 사이킷런의 정규화를 위한 클래스는? ( MinMaxScaler  )\n",
    "\n",
    "* ( 표준화  ) : 특성의 평균을 0으로 맞추고 분산을 1로 만들어 정규 분포와 같은 특징을 가지도록 합니다. 사이컷런의 표준화를 위한 클래스는? ( StandardScaler  )\n",
    "\n",
    "* 피처 스케일링 시 주의사항은? ( 테스트 데이터 세트로는 다시 fit()을 수행하지 않고 학습 데이터 세트로 fit()을 수행한 결과를 이용해 transform()을 수행해야 함  )\n",
    "\n",
    "* ( 로지스틱 회귀  )는 선형 회귀 방식을 기반으로 데이터가 어떤 범주에 속할 확률을 0 ~ 1 사이의 값으로 예측하고 그 확률에 따라 가능성이 더 높은 범주에 속하는 것으로 분류해주는 알고리즘 입니다.\n",
    "\n",
    "* 로지스틱 회귀는 ( 시그모이드  ) 함수를 이용하여 x값이 아무리 커지거나 작아져도 y값이 항상 0과 1사이의 값이 되도록 반환해 줍니다.\n",
    "\n",
    "* 사이킷런에서 제공하는 로지스틱 회귀를 위한 클래스는? ( LogisticRegression  )"
   ]
  },
  {
   "cell_type": "markdown",
   "metadata": {
    "id": "OAMbE7-cBZrw"
   },
   "source": [
    "# 2. 데이터 가져오기\n",
    "\n",
    "* kaggle.com에서 타이타닉 데이터셋 가져오기 [캐글](https://www.kaggle.com/c/titanic)"
   ]
  },
  {
   "cell_type": "code",
   "execution_count": null,
   "metadata": {
    "colab": {
     "base_uri": "https://localhost:8080/"
    },
    "executionInfo": {
     "elapsed": 22862,
     "status": "ok",
     "timestamp": 1637546853296,
     "user": {
      "displayName": "2419사호준",
      "photoUrl": "https://lh3.googleusercontent.com/a-/AOh14GjtMCFFKZoL4q2BNWA05z2l4_8G3VrKES9NIYI_=s64",
      "userId": "12472283199854937799"
     },
     "user_tz": -540
    },
    "id": "ogr_vDPKo3xK",
    "outputId": "d1710c6d-7be7-4a24-a4c0-6fd9881cc473"
   },
   "outputs": [
    {
     "name": "stdout",
     "output_type": "stream",
     "text": [
      "Mounted at /content/drive\n"
     ]
    }
   ],
   "source": [
    "from google.colab import drive\n",
    "drive.mount('/content/drive')"
   ]
  },
  {
   "cell_type": "code",
   "execution_count": null,
   "metadata": {
    "id": "j88SYLox5WUZ"
   },
   "outputs": [],
   "source": [
    "# 데이터 불러오기\n",
    "import numpy as np\n",
    "import pandas as pd\n",
    "\n",
    "train_df = pd.read_csv('/content/drive/MyDrive/datasets/titanic/train.csv', index_col='PassengerId')\n",
    "test_df = pd.read_csv('/content/drive/MyDrive/datasets/titanic/test.csv', index_col='PassengerId')"
   ]
  },
  {
   "cell_type": "code",
   "execution_count": null,
   "metadata": {
    "colab": {
     "base_uri": "https://localhost:8080/",
     "height": 235
    },
    "executionInfo": {
     "elapsed": 536,
     "status": "ok",
     "timestamp": 1637546867788,
     "user": {
      "displayName": "2419사호준",
      "photoUrl": "https://lh3.googleusercontent.com/a-/AOh14GjtMCFFKZoL4q2BNWA05z2l4_8G3VrKES9NIYI_=s64",
      "userId": "12472283199854937799"
     },
     "user_tz": -540
    },
    "id": "c9rqO_iZ8vAA",
    "outputId": "2c4123a7-05a7-4714-943c-245aae7fc00b"
   },
   "outputs": [
    {
     "data": {
      "text/html": [
       "<div>\n",
       "<style scoped>\n",
       "    .dataframe tbody tr th:only-of-type {\n",
       "        vertical-align: middle;\n",
       "    }\n",
       "\n",
       "    .dataframe tbody tr th {\n",
       "        vertical-align: top;\n",
       "    }\n",
       "\n",
       "    .dataframe thead th {\n",
       "        text-align: right;\n",
       "    }\n",
       "</style>\n",
       "<table border=\"1\" class=\"dataframe\">\n",
       "  <thead>\n",
       "    <tr style=\"text-align: right;\">\n",
       "      <th></th>\n",
       "      <th>Survived</th>\n",
       "      <th>Pclass</th>\n",
       "      <th>Name</th>\n",
       "      <th>Sex</th>\n",
       "      <th>Age</th>\n",
       "      <th>SibSp</th>\n",
       "      <th>Parch</th>\n",
       "      <th>Ticket</th>\n",
       "      <th>Fare</th>\n",
       "      <th>Cabin</th>\n",
       "      <th>Embarked</th>\n",
       "    </tr>\n",
       "    <tr>\n",
       "      <th>PassengerId</th>\n",
       "      <th></th>\n",
       "      <th></th>\n",
       "      <th></th>\n",
       "      <th></th>\n",
       "      <th></th>\n",
       "      <th></th>\n",
       "      <th></th>\n",
       "      <th></th>\n",
       "      <th></th>\n",
       "      <th></th>\n",
       "      <th></th>\n",
       "    </tr>\n",
       "  </thead>\n",
       "  <tbody>\n",
       "    <tr>\n",
       "      <th>1</th>\n",
       "      <td>0</td>\n",
       "      <td>3</td>\n",
       "      <td>Braund, Mr. Owen Harris</td>\n",
       "      <td>male</td>\n",
       "      <td>22.0</td>\n",
       "      <td>1</td>\n",
       "      <td>0</td>\n",
       "      <td>A/5 21171</td>\n",
       "      <td>7.2500</td>\n",
       "      <td>NaN</td>\n",
       "      <td>S</td>\n",
       "    </tr>\n",
       "    <tr>\n",
       "      <th>2</th>\n",
       "      <td>1</td>\n",
       "      <td>1</td>\n",
       "      <td>Cumings, Mrs. John Bradley (Florence Briggs Th...</td>\n",
       "      <td>female</td>\n",
       "      <td>38.0</td>\n",
       "      <td>1</td>\n",
       "      <td>0</td>\n",
       "      <td>PC 17599</td>\n",
       "      <td>71.2833</td>\n",
       "      <td>C85</td>\n",
       "      <td>C</td>\n",
       "    </tr>\n",
       "    <tr>\n",
       "      <th>3</th>\n",
       "      <td>1</td>\n",
       "      <td>3</td>\n",
       "      <td>Heikkinen, Miss. Laina</td>\n",
       "      <td>female</td>\n",
       "      <td>26.0</td>\n",
       "      <td>0</td>\n",
       "      <td>0</td>\n",
       "      <td>STON/O2. 3101282</td>\n",
       "      <td>7.9250</td>\n",
       "      <td>NaN</td>\n",
       "      <td>S</td>\n",
       "    </tr>\n",
       "    <tr>\n",
       "      <th>4</th>\n",
       "      <td>1</td>\n",
       "      <td>1</td>\n",
       "      <td>Futrelle, Mrs. Jacques Heath (Lily May Peel)</td>\n",
       "      <td>female</td>\n",
       "      <td>35.0</td>\n",
       "      <td>1</td>\n",
       "      <td>0</td>\n",
       "      <td>113803</td>\n",
       "      <td>53.1000</td>\n",
       "      <td>C123</td>\n",
       "      <td>S</td>\n",
       "    </tr>\n",
       "    <tr>\n",
       "      <th>5</th>\n",
       "      <td>0</td>\n",
       "      <td>3</td>\n",
       "      <td>Allen, Mr. William Henry</td>\n",
       "      <td>male</td>\n",
       "      <td>35.0</td>\n",
       "      <td>0</td>\n",
       "      <td>0</td>\n",
       "      <td>373450</td>\n",
       "      <td>8.0500</td>\n",
       "      <td>NaN</td>\n",
       "      <td>S</td>\n",
       "    </tr>\n",
       "  </tbody>\n",
       "</table>\n",
       "</div>"
      ],
      "text/plain": [
       "             Survived  Pclass  ... Cabin Embarked\n",
       "PassengerId                    ...               \n",
       "1                   0       3  ...   NaN        S\n",
       "2                   1       1  ...   C85        C\n",
       "3                   1       3  ...   NaN        S\n",
       "4                   1       1  ...  C123        S\n",
       "5                   0       3  ...   NaN        S\n",
       "\n",
       "[5 rows x 11 columns]"
      ]
     },
     "execution_count": 3,
     "metadata": {},
     "output_type": "execute_result"
    }
   ],
   "source": [
    "# 앞 데이터 보기1\n",
    "train_df.head()"
   ]
  },
  {
   "cell_type": "code",
   "execution_count": null,
   "metadata": {
    "colab": {
     "base_uri": "https://localhost:8080/",
     "height": 235
    },
    "executionInfo": {
     "elapsed": 28,
     "status": "ok",
     "timestamp": 1637546868300,
     "user": {
      "displayName": "2419사호준",
      "photoUrl": "https://lh3.googleusercontent.com/a-/AOh14GjtMCFFKZoL4q2BNWA05z2l4_8G3VrKES9NIYI_=s64",
      "userId": "12472283199854937799"
     },
     "user_tz": -540
    },
    "id": "kDorLYH88xMG",
    "outputId": "ba73612b-c3ae-4bbd-906b-1a68f7e260a9"
   },
   "outputs": [
    {
     "data": {
      "text/html": [
       "<div>\n",
       "<style scoped>\n",
       "    .dataframe tbody tr th:only-of-type {\n",
       "        vertical-align: middle;\n",
       "    }\n",
       "\n",
       "    .dataframe tbody tr th {\n",
       "        vertical-align: top;\n",
       "    }\n",
       "\n",
       "    .dataframe thead th {\n",
       "        text-align: right;\n",
       "    }\n",
       "</style>\n",
       "<table border=\"1\" class=\"dataframe\">\n",
       "  <thead>\n",
       "    <tr style=\"text-align: right;\">\n",
       "      <th></th>\n",
       "      <th>Pclass</th>\n",
       "      <th>Name</th>\n",
       "      <th>Sex</th>\n",
       "      <th>Age</th>\n",
       "      <th>SibSp</th>\n",
       "      <th>Parch</th>\n",
       "      <th>Ticket</th>\n",
       "      <th>Fare</th>\n",
       "      <th>Cabin</th>\n",
       "      <th>Embarked</th>\n",
       "    </tr>\n",
       "    <tr>\n",
       "      <th>PassengerId</th>\n",
       "      <th></th>\n",
       "      <th></th>\n",
       "      <th></th>\n",
       "      <th></th>\n",
       "      <th></th>\n",
       "      <th></th>\n",
       "      <th></th>\n",
       "      <th></th>\n",
       "      <th></th>\n",
       "      <th></th>\n",
       "    </tr>\n",
       "  </thead>\n",
       "  <tbody>\n",
       "    <tr>\n",
       "      <th>892</th>\n",
       "      <td>3</td>\n",
       "      <td>Kelly, Mr. James</td>\n",
       "      <td>male</td>\n",
       "      <td>34.5</td>\n",
       "      <td>0</td>\n",
       "      <td>0</td>\n",
       "      <td>330911</td>\n",
       "      <td>7.8292</td>\n",
       "      <td>NaN</td>\n",
       "      <td>Q</td>\n",
       "    </tr>\n",
       "    <tr>\n",
       "      <th>893</th>\n",
       "      <td>3</td>\n",
       "      <td>Wilkes, Mrs. James (Ellen Needs)</td>\n",
       "      <td>female</td>\n",
       "      <td>47.0</td>\n",
       "      <td>1</td>\n",
       "      <td>0</td>\n",
       "      <td>363272</td>\n",
       "      <td>7.0000</td>\n",
       "      <td>NaN</td>\n",
       "      <td>S</td>\n",
       "    </tr>\n",
       "    <tr>\n",
       "      <th>894</th>\n",
       "      <td>2</td>\n",
       "      <td>Myles, Mr. Thomas Francis</td>\n",
       "      <td>male</td>\n",
       "      <td>62.0</td>\n",
       "      <td>0</td>\n",
       "      <td>0</td>\n",
       "      <td>240276</td>\n",
       "      <td>9.6875</td>\n",
       "      <td>NaN</td>\n",
       "      <td>Q</td>\n",
       "    </tr>\n",
       "    <tr>\n",
       "      <th>895</th>\n",
       "      <td>3</td>\n",
       "      <td>Wirz, Mr. Albert</td>\n",
       "      <td>male</td>\n",
       "      <td>27.0</td>\n",
       "      <td>0</td>\n",
       "      <td>0</td>\n",
       "      <td>315154</td>\n",
       "      <td>8.6625</td>\n",
       "      <td>NaN</td>\n",
       "      <td>S</td>\n",
       "    </tr>\n",
       "    <tr>\n",
       "      <th>896</th>\n",
       "      <td>3</td>\n",
       "      <td>Hirvonen, Mrs. Alexander (Helga E Lindqvist)</td>\n",
       "      <td>female</td>\n",
       "      <td>22.0</td>\n",
       "      <td>1</td>\n",
       "      <td>1</td>\n",
       "      <td>3101298</td>\n",
       "      <td>12.2875</td>\n",
       "      <td>NaN</td>\n",
       "      <td>S</td>\n",
       "    </tr>\n",
       "  </tbody>\n",
       "</table>\n",
       "</div>"
      ],
      "text/plain": [
       "             Pclass  ... Embarked\n",
       "PassengerId          ...         \n",
       "892               3  ...        Q\n",
       "893               3  ...        S\n",
       "894               2  ...        Q\n",
       "895               3  ...        S\n",
       "896               3  ...        S\n",
       "\n",
       "[5 rows x 10 columns]"
      ]
     },
     "execution_count": 4,
     "metadata": {},
     "output_type": "execute_result"
    }
   ],
   "source": [
    "# 앞 데이터 보기2\n",
    "test_df.head()"
   ]
  },
  {
   "cell_type": "code",
   "execution_count": null,
   "metadata": {
    "colab": {
     "base_uri": "https://localhost:8080/"
    },
    "executionInfo": {
     "elapsed": 25,
     "status": "ok",
     "timestamp": 1637546868303,
     "user": {
      "displayName": "2419사호준",
      "photoUrl": "https://lh3.googleusercontent.com/a-/AOh14GjtMCFFKZoL4q2BNWA05z2l4_8G3VrKES9NIYI_=s64",
      "userId": "12472283199854937799"
     },
     "user_tz": -540
    },
    "id": "0IZnFYNw7ppi",
    "outputId": "9ddf0d87-4925-4f04-f6e7-f863822c6968"
   },
   "outputs": [
    {
     "name": "stdout",
     "output_type": "stream",
     "text": [
      "<class 'pandas.core.frame.DataFrame'>\n",
      "Int64Index: 891 entries, 1 to 891\n",
      "Data columns (total 11 columns):\n",
      " #   Column    Non-Null Count  Dtype  \n",
      "---  ------    --------------  -----  \n",
      " 0   Survived  891 non-null    int64  \n",
      " 1   Pclass    891 non-null    int64  \n",
      " 2   Name      891 non-null    object \n",
      " 3   Sex       891 non-null    object \n",
      " 4   Age       714 non-null    float64\n",
      " 5   SibSp     891 non-null    int64  \n",
      " 6   Parch     891 non-null    int64  \n",
      " 7   Ticket    891 non-null    object \n",
      " 8   Fare      891 non-null    float64\n",
      " 9   Cabin     204 non-null    object \n",
      " 10  Embarked  889 non-null    object \n",
      "dtypes: float64(2), int64(4), object(5)\n",
      "memory usage: 83.5+ KB\n"
     ]
    }
   ],
   "source": [
    "# 열 정보 보기1\n",
    "train_df.info()"
   ]
  },
  {
   "cell_type": "code",
   "execution_count": null,
   "metadata": {
    "colab": {
     "base_uri": "https://localhost:8080/"
    },
    "executionInfo": {
     "elapsed": 14,
     "status": "ok",
     "timestamp": 1637546869188,
     "user": {
      "displayName": "2419사호준",
      "photoUrl": "https://lh3.googleusercontent.com/a-/AOh14GjtMCFFKZoL4q2BNWA05z2l4_8G3VrKES9NIYI_=s64",
      "userId": "12472283199854937799"
     },
     "user_tz": -540
    },
    "id": "b2et7jYN9Cqp",
    "outputId": "ca8b5fe3-f517-4d19-84b9-186de5587310"
   },
   "outputs": [
    {
     "name": "stdout",
     "output_type": "stream",
     "text": [
      "<class 'pandas.core.frame.DataFrame'>\n",
      "Int64Index: 418 entries, 892 to 1309\n",
      "Data columns (total 10 columns):\n",
      " #   Column    Non-Null Count  Dtype  \n",
      "---  ------    --------------  -----  \n",
      " 0   Pclass    418 non-null    int64  \n",
      " 1   Name      418 non-null    object \n",
      " 2   Sex       418 non-null    object \n",
      " 3   Age       332 non-null    float64\n",
      " 4   SibSp     418 non-null    int64  \n",
      " 5   Parch     418 non-null    int64  \n",
      " 6   Ticket    418 non-null    object \n",
      " 7   Fare      417 non-null    float64\n",
      " 8   Cabin     91 non-null     object \n",
      " 9   Embarked  418 non-null    object \n",
      "dtypes: float64(2), int64(3), object(5)\n",
      "memory usage: 35.9+ KB\n"
     ]
    }
   ],
   "source": [
    "# 열 정보 보기2\n",
    "test_df.info()"
   ]
  },
  {
   "cell_type": "code",
   "execution_count": null,
   "metadata": {
    "colab": {
     "base_uri": "https://localhost:8080/"
    },
    "executionInfo": {
     "elapsed": 11,
     "status": "ok",
     "timestamp": 1637546869675,
     "user": {
      "displayName": "2419사호준",
      "photoUrl": "https://lh3.googleusercontent.com/a-/AOh14GjtMCFFKZoL4q2BNWA05z2l4_8G3VrKES9NIYI_=s64",
      "userId": "12472283199854937799"
     },
     "user_tz": -540
    },
    "id": "5YCASD7gCJ78",
    "outputId": "04725a6c-be11-4fa2-929f-2534aa88c83e"
   },
   "outputs": [
    {
     "data": {
      "text/plain": [
       "Survived      0\n",
       "Pclass        0\n",
       "Name          0\n",
       "Sex           0\n",
       "Age         177\n",
       "SibSp         0\n",
       "Parch         0\n",
       "Ticket        0\n",
       "Fare          0\n",
       "Cabin       687\n",
       "Embarked      2\n",
       "dtype: int64"
      ]
     },
     "execution_count": 7,
     "metadata": {},
     "output_type": "execute_result"
    }
   ],
   "source": [
    "# Null 건수 보기1\n",
    "train_df.isnull().sum()"
   ]
  },
  {
   "cell_type": "code",
   "execution_count": null,
   "metadata": {
    "colab": {
     "base_uri": "https://localhost:8080/"
    },
    "executionInfo": {
     "elapsed": 13,
     "status": "ok",
     "timestamp": 1637546871004,
     "user": {
      "displayName": "2419사호준",
      "photoUrl": "https://lh3.googleusercontent.com/a-/AOh14GjtMCFFKZoL4q2BNWA05z2l4_8G3VrKES9NIYI_=s64",
      "userId": "12472283199854937799"
     },
     "user_tz": -540
    },
    "id": "mR7T8kOUk-zf",
    "outputId": "1b344499-f451-4293-9c7e-7c3b929c6ade"
   },
   "outputs": [
    {
     "data": {
      "text/plain": [
       "Pclass        0\n",
       "Name          0\n",
       "Sex           0\n",
       "Age          86\n",
       "SibSp         0\n",
       "Parch         0\n",
       "Ticket        0\n",
       "Fare          1\n",
       "Cabin       327\n",
       "Embarked      0\n",
       "dtype: int64"
      ]
     },
     "execution_count": 8,
     "metadata": {},
     "output_type": "execute_result"
    }
   ],
   "source": [
    "# Null 건수 보기2\n",
    "test_df.isnull().sum()"
   ]
  },
  {
   "cell_type": "markdown",
   "metadata": {
    "id": "sAdjlWG0Nthf"
   },
   "source": [
    "# 3. 데이터 전처리하기\n",
    "\n",
    "* 머신러닝 알고리즘은 Null값과 문자열 값을 입력값으로 허용하지 않습니다.\n",
    "\n",
    "* Null값 처리하기\n",
    "  * Null값이 얼마 되지 않는다면 피처의 평균값 또는 중앙값으로 대체할 수 있음\n",
    "  * Null값이 대부분이라면 해당 피처는 Drop하는 것이 좋음\n",
    "  * 위의 경우가 아니라면 더 정밀하게 대체값을 선정해야 함\n",
    "\n",
    "* 범주형 데이터 변환하기 : 학습에 필요한 모든 문자열 값은 인코딩되어 숫자형으로 변환해야 함\n",
    "\n",
    "* 불필요한 피처 삭제하기 : 예) 단순 아이디와 같은 식별자 피처"
   ]
  },
  {
   "cell_type": "markdown",
   "metadata": {
    "id": "7_sPTUZORNY7"
   },
   "source": [
    "## 3-1. Null값 처리하기"
   ]
  },
  {
   "cell_type": "code",
   "execution_count": null,
   "metadata": {
    "id": "Nkdfunaw_B7L"
   },
   "outputs": [],
   "source": [
    "# Age : 중앙값으로 채우기\n",
    "train_df['Age'].fillna(train_df['Age'].median(), inplace=True)\n",
    "test_df['Age'].fillna(test_df['Age'].median(), inplace=True)"
   ]
  },
  {
   "cell_type": "code",
   "execution_count": null,
   "metadata": {
    "id": "DPwrq4mdS04n"
   },
   "outputs": [],
   "source": [
    "# Cabin : 삭제\n",
    "train_df.drop(['Cabin'], axis=1, inplace=True)\n",
    "test_df.drop(['Cabin'], axis=1, inplace=True)"
   ]
  },
  {
   "cell_type": "code",
   "execution_count": null,
   "metadata": {
    "colab": {
     "base_uri": "https://localhost:8080/"
    },
    "executionInfo": {
     "elapsed": 10,
     "status": "ok",
     "timestamp": 1637546977409,
     "user": {
      "displayName": "2419사호준",
      "photoUrl": "https://lh3.googleusercontent.com/a-/AOh14GjtMCFFKZoL4q2BNWA05z2l4_8G3VrKES9NIYI_=s64",
      "userId": "12472283199854937799"
     },
     "user_tz": -540
    },
    "id": "SQXl0x3ATCEF",
    "outputId": "b4da8427-f275-409a-be8a-eab9585c95a9"
   },
   "outputs": [
    {
     "data": {
      "text/plain": [
       "S    644\n",
       "C    168\n",
       "Q     77\n",
       "Name: Embarked, dtype: int64"
      ]
     },
     "execution_count": 11,
     "metadata": {},
     "output_type": "execute_result"
    }
   ],
   "source": [
    "# Embarked : 건수 확인하기\n",
    "train_df['Embarked'].value_counts()"
   ]
  },
  {
   "cell_type": "code",
   "execution_count": null,
   "metadata": {
    "id": "e3ah9mAxTO_G"
   },
   "outputs": [],
   "source": [
    "# Embarked : 가장 건수가 많은 데이터로 채우기\n",
    "train_df['Embarked'].fillna('S', inplace=True)\n",
    "test_df['Embarked'].fillna('S', inplace=True)"
   ]
  },
  {
   "cell_type": "code",
   "execution_count": null,
   "metadata": {
    "id": "72hN5KV-lXGA"
   },
   "outputs": [],
   "source": [
    "# Fare : 중앙값으로 채우기\n",
    "test_df['Fare'].fillna(test_df['Fare'].median(), inplace=True)"
   ]
  },
  {
   "cell_type": "code",
   "execution_count": null,
   "metadata": {
    "colab": {
     "base_uri": "https://localhost:8080/"
    },
    "executionInfo": {
     "elapsed": 12,
     "status": "ok",
     "timestamp": 1637546978426,
     "user": {
      "displayName": "2419사호준",
      "photoUrl": "https://lh3.googleusercontent.com/a-/AOh14GjtMCFFKZoL4q2BNWA05z2l4_8G3VrKES9NIYI_=s64",
      "userId": "12472283199854937799"
     },
     "user_tz": -540
    },
    "id": "B1JGkbyCHRLQ",
    "outputId": "4058e187-11a2-4cf8-f600-29505d2b1f0c"
   },
   "outputs": [
    {
     "data": {
      "text/plain": [
       "Survived    0\n",
       "Pclass      0\n",
       "Name        0\n",
       "Sex         0\n",
       "Age         0\n",
       "SibSp       0\n",
       "Parch       0\n",
       "Ticket      0\n",
       "Fare        0\n",
       "Embarked    0\n",
       "dtype: int64"
      ]
     },
     "execution_count": 14,
     "metadata": {},
     "output_type": "execute_result"
    }
   ],
   "source": [
    "# Null 건수 보기1\n",
    "train_df.isnull().sum()"
   ]
  },
  {
   "cell_type": "code",
   "execution_count": null,
   "metadata": {
    "colab": {
     "base_uri": "https://localhost:8080/"
    },
    "executionInfo": {
     "elapsed": 11,
     "status": "ok",
     "timestamp": 1637546979467,
     "user": {
      "displayName": "2419사호준",
      "photoUrl": "https://lh3.googleusercontent.com/a-/AOh14GjtMCFFKZoL4q2BNWA05z2l4_8G3VrKES9NIYI_=s64",
      "userId": "12472283199854937799"
     },
     "user_tz": -540
    },
    "id": "zjsINX5plnnU",
    "outputId": "e144df83-14d2-498e-ef2e-a64fa7b83d00"
   },
   "outputs": [
    {
     "data": {
      "text/plain": [
       "Pclass      0\n",
       "Name        0\n",
       "Sex         0\n",
       "Age         0\n",
       "SibSp       0\n",
       "Parch       0\n",
       "Ticket      0\n",
       "Fare        0\n",
       "Embarked    0\n",
       "dtype: int64"
      ]
     },
     "execution_count": 15,
     "metadata": {},
     "output_type": "execute_result"
    }
   ],
   "source": [
    "# Null 건수 보기2\n",
    "test_df.isnull().sum()"
   ]
  },
  {
   "cell_type": "markdown",
   "metadata": {
    "id": "2ExEH188RSQE"
   },
   "source": [
    "## 3-2. 범주형 데이터 변환하기\n",
    "\n",
    "* 머신러닝에서는 학습에 필요한 문자열값은 인코딩되어 수치형 데이터로 변환해 주어야 합니다.\n",
    "\n",
    "* 만약에 봄을 1, 여름을 2, 가을을 3, 겨울을 4로 변환하게 되면 어떻게 될까요?\n",
    "\n",
    "* ( 원 핫 인코딩(One hot encoding)  ) : 피처 값의 유형에 따라 새로운 피처를 추가하여 고유값에 해당하는 컬럼에만 1을 표시하고 나머지 칼럼에는 0을 표시하는 방식입니다.\n",
    "\n",
    "* 이렇게 되면 더미로 만든 가변수로 변환하여 관계성이 생기지 않게 됩니다."
   ]
  },
  {
   "cell_type": "code",
   "execution_count": null,
   "metadata": {
    "colab": {
     "base_uri": "https://localhost:8080/",
     "height": 235
    },
    "executionInfo": {
     "elapsed": 530,
     "status": "ok",
     "timestamp": 1637547508170,
     "user": {
      "displayName": "2419사호준",
      "photoUrl": "https://lh3.googleusercontent.com/a-/AOh14GjtMCFFKZoL4q2BNWA05z2l4_8G3VrKES9NIYI_=s64",
      "userId": "12472283199854937799"
     },
     "user_tz": -540
    },
    "id": "T1t7oR7qdBLH",
    "outputId": "6ec47e73-4de8-42c6-f29c-7496b03c565d"
   },
   "outputs": [
    {
     "data": {
      "text/html": [
       "<div>\n",
       "<style scoped>\n",
       "    .dataframe tbody tr th:only-of-type {\n",
       "        vertical-align: middle;\n",
       "    }\n",
       "\n",
       "    .dataframe tbody tr th {\n",
       "        vertical-align: top;\n",
       "    }\n",
       "\n",
       "    .dataframe thead th {\n",
       "        text-align: right;\n",
       "    }\n",
       "</style>\n",
       "<table border=\"1\" class=\"dataframe\">\n",
       "  <thead>\n",
       "    <tr style=\"text-align: right;\">\n",
       "      <th></th>\n",
       "      <th>Survived</th>\n",
       "      <th>Pclass</th>\n",
       "      <th>Name</th>\n",
       "      <th>Sex</th>\n",
       "      <th>Age</th>\n",
       "      <th>SibSp</th>\n",
       "      <th>Parch</th>\n",
       "      <th>Ticket</th>\n",
       "      <th>Fare</th>\n",
       "      <th>Embarked</th>\n",
       "    </tr>\n",
       "    <tr>\n",
       "      <th>PassengerId</th>\n",
       "      <th></th>\n",
       "      <th></th>\n",
       "      <th></th>\n",
       "      <th></th>\n",
       "      <th></th>\n",
       "      <th></th>\n",
       "      <th></th>\n",
       "      <th></th>\n",
       "      <th></th>\n",
       "      <th></th>\n",
       "    </tr>\n",
       "  </thead>\n",
       "  <tbody>\n",
       "    <tr>\n",
       "      <th>1</th>\n",
       "      <td>0</td>\n",
       "      <td>3</td>\n",
       "      <td>Braund, Mr. Owen Harris</td>\n",
       "      <td>male</td>\n",
       "      <td>22.0</td>\n",
       "      <td>1</td>\n",
       "      <td>0</td>\n",
       "      <td>A/5 21171</td>\n",
       "      <td>7.2500</td>\n",
       "      <td>S</td>\n",
       "    </tr>\n",
       "    <tr>\n",
       "      <th>2</th>\n",
       "      <td>1</td>\n",
       "      <td>1</td>\n",
       "      <td>Cumings, Mrs. John Bradley (Florence Briggs Th...</td>\n",
       "      <td>female</td>\n",
       "      <td>38.0</td>\n",
       "      <td>1</td>\n",
       "      <td>0</td>\n",
       "      <td>PC 17599</td>\n",
       "      <td>71.2833</td>\n",
       "      <td>C</td>\n",
       "    </tr>\n",
       "    <tr>\n",
       "      <th>3</th>\n",
       "      <td>1</td>\n",
       "      <td>3</td>\n",
       "      <td>Heikkinen, Miss. Laina</td>\n",
       "      <td>female</td>\n",
       "      <td>26.0</td>\n",
       "      <td>0</td>\n",
       "      <td>0</td>\n",
       "      <td>STON/O2. 3101282</td>\n",
       "      <td>7.9250</td>\n",
       "      <td>S</td>\n",
       "    </tr>\n",
       "    <tr>\n",
       "      <th>4</th>\n",
       "      <td>1</td>\n",
       "      <td>1</td>\n",
       "      <td>Futrelle, Mrs. Jacques Heath (Lily May Peel)</td>\n",
       "      <td>female</td>\n",
       "      <td>35.0</td>\n",
       "      <td>1</td>\n",
       "      <td>0</td>\n",
       "      <td>113803</td>\n",
       "      <td>53.1000</td>\n",
       "      <td>S</td>\n",
       "    </tr>\n",
       "    <tr>\n",
       "      <th>5</th>\n",
       "      <td>0</td>\n",
       "      <td>3</td>\n",
       "      <td>Allen, Mr. William Henry</td>\n",
       "      <td>male</td>\n",
       "      <td>35.0</td>\n",
       "      <td>0</td>\n",
       "      <td>0</td>\n",
       "      <td>373450</td>\n",
       "      <td>8.0500</td>\n",
       "      <td>S</td>\n",
       "    </tr>\n",
       "  </tbody>\n",
       "</table>\n",
       "</div>"
      ],
      "text/plain": [
       "             Survived  Pclass  ...     Fare Embarked\n",
       "PassengerId                    ...                  \n",
       "1                   0       3  ...   7.2500        S\n",
       "2                   1       1  ...  71.2833        C\n",
       "3                   1       3  ...   7.9250        S\n",
       "4                   1       1  ...  53.1000        S\n",
       "5                   0       3  ...   8.0500        S\n",
       "\n",
       "[5 rows x 10 columns]"
      ]
     },
     "execution_count": 16,
     "metadata": {},
     "output_type": "execute_result"
    }
   ],
   "source": [
    "# 범주형 데이터 : Pclass, Sex, Embarked\n",
    "train_df.head()"
   ]
  },
  {
   "cell_type": "code",
   "execution_count": null,
   "metadata": {
    "colab": {
     "base_uri": "https://localhost:8080/",
     "height": 173
    },
    "executionInfo": {
     "elapsed": 528,
     "status": "ok",
     "timestamp": 1637547593776,
     "user": {
      "displayName": "2419사호준",
      "photoUrl": "https://lh3.googleusercontent.com/a-/AOh14GjtMCFFKZoL4q2BNWA05z2l4_8G3VrKES9NIYI_=s64",
      "userId": "12472283199854937799"
     },
     "user_tz": -540
    },
    "id": "jwH9dWEkKRPO",
    "outputId": "7ffa9239-2b38-4276-f28c-392e4430d1ec"
   },
   "outputs": [
    {
     "data": {
      "text/html": [
       "<div>\n",
       "<style scoped>\n",
       "    .dataframe tbody tr th:only-of-type {\n",
       "        vertical-align: middle;\n",
       "    }\n",
       "\n",
       "    .dataframe tbody tr th {\n",
       "        vertical-align: top;\n",
       "    }\n",
       "\n",
       "    .dataframe thead th {\n",
       "        text-align: right;\n",
       "    }\n",
       "</style>\n",
       "<table border=\"1\" class=\"dataframe\">\n",
       "  <thead>\n",
       "    <tr style=\"text-align: right;\">\n",
       "      <th></th>\n",
       "      <th>season</th>\n",
       "    </tr>\n",
       "  </thead>\n",
       "  <tbody>\n",
       "    <tr>\n",
       "      <th>0</th>\n",
       "      <td>spring</td>\n",
       "    </tr>\n",
       "    <tr>\n",
       "      <th>1</th>\n",
       "      <td>summer</td>\n",
       "    </tr>\n",
       "    <tr>\n",
       "      <th>2</th>\n",
       "      <td>fall</td>\n",
       "    </tr>\n",
       "    <tr>\n",
       "      <th>3</th>\n",
       "      <td>winter</td>\n",
       "    </tr>\n",
       "  </tbody>\n",
       "</table>\n",
       "</div>"
      ],
      "text/plain": [
       "   season\n",
       "0  spring\n",
       "1  summer\n",
       "2    fall\n",
       "3  winter"
      ]
     },
     "execution_count": 17,
     "metadata": {},
     "output_type": "execute_result"
    }
   ],
   "source": [
    "# get_dummies 함수 알아보기\n",
    "season = pd.DataFrame({\n",
    "    'season':['spring', 'summer', 'fall', 'winter']\n",
    "})\n",
    "season"
   ]
  },
  {
   "cell_type": "code",
   "execution_count": null,
   "metadata": {
    "colab": {
     "base_uri": "https://localhost:8080/",
     "height": 173
    },
    "executionInfo": {
     "elapsed": 425,
     "status": "ok",
     "timestamp": 1637547733856,
     "user": {
      "displayName": "2419사호준",
      "photoUrl": "https://lh3.googleusercontent.com/a-/AOh14GjtMCFFKZoL4q2BNWA05z2l4_8G3VrKES9NIYI_=s64",
      "userId": "12472283199854937799"
     },
     "user_tz": -540
    },
    "id": "WuulY4zQqixV",
    "outputId": "7c39d217-234d-402e-e64d-89e262543d5d"
   },
   "outputs": [
    {
     "data": {
      "text/html": [
       "<div>\n",
       "<style scoped>\n",
       "    .dataframe tbody tr th:only-of-type {\n",
       "        vertical-align: middle;\n",
       "    }\n",
       "\n",
       "    .dataframe tbody tr th {\n",
       "        vertical-align: top;\n",
       "    }\n",
       "\n",
       "    .dataframe thead th {\n",
       "        text-align: right;\n",
       "    }\n",
       "</style>\n",
       "<table border=\"1\" class=\"dataframe\">\n",
       "  <thead>\n",
       "    <tr style=\"text-align: right;\">\n",
       "      <th></th>\n",
       "      <th>fall</th>\n",
       "      <th>spring</th>\n",
       "      <th>summer</th>\n",
       "      <th>winter</th>\n",
       "    </tr>\n",
       "  </thead>\n",
       "  <tbody>\n",
       "    <tr>\n",
       "      <th>0</th>\n",
       "      <td>0</td>\n",
       "      <td>1</td>\n",
       "      <td>0</td>\n",
       "      <td>0</td>\n",
       "    </tr>\n",
       "    <tr>\n",
       "      <th>1</th>\n",
       "      <td>0</td>\n",
       "      <td>0</td>\n",
       "      <td>1</td>\n",
       "      <td>0</td>\n",
       "    </tr>\n",
       "    <tr>\n",
       "      <th>2</th>\n",
       "      <td>1</td>\n",
       "      <td>0</td>\n",
       "      <td>0</td>\n",
       "      <td>0</td>\n",
       "    </tr>\n",
       "    <tr>\n",
       "      <th>3</th>\n",
       "      <td>0</td>\n",
       "      <td>0</td>\n",
       "      <td>0</td>\n",
       "      <td>1</td>\n",
       "    </tr>\n",
       "  </tbody>\n",
       "</table>\n",
       "</div>"
      ],
      "text/plain": [
       "   fall  spring  summer  winter\n",
       "0     0       1       0       0\n",
       "1     0       0       1       0\n",
       "2     1       0       0       0\n",
       "3     0       0       0       1"
      ]
     },
     "execution_count": 18,
     "metadata": {},
     "output_type": "execute_result"
    }
   ],
   "source": [
    "pd.get_dummies(season['season'])"
   ]
  },
  {
   "cell_type": "code",
   "execution_count": null,
   "metadata": {
    "colab": {
     "base_uri": "https://localhost:8080/",
     "height": 269
    },
    "executionInfo": {
     "elapsed": 652,
     "status": "ok",
     "timestamp": 1637547791426,
     "user": {
      "displayName": "2419사호준",
      "photoUrl": "https://lh3.googleusercontent.com/a-/AOh14GjtMCFFKZoL4q2BNWA05z2l4_8G3VrKES9NIYI_=s64",
      "userId": "12472283199854937799"
     },
     "user_tz": -540
    },
    "id": "TczTFddfR-Iz",
    "outputId": "0ab8472b-9a55-4bb4-b006-146740e020a2"
   },
   "outputs": [
    {
     "data": {
      "text/html": [
       "<div>\n",
       "<style scoped>\n",
       "    .dataframe tbody tr th:only-of-type {\n",
       "        vertical-align: middle;\n",
       "    }\n",
       "\n",
       "    .dataframe tbody tr th {\n",
       "        vertical-align: top;\n",
       "    }\n",
       "\n",
       "    .dataframe thead th {\n",
       "        text-align: right;\n",
       "    }\n",
       "</style>\n",
       "<table border=\"1\" class=\"dataframe\">\n",
       "  <thead>\n",
       "    <tr style=\"text-align: right;\">\n",
       "      <th></th>\n",
       "      <th>Survived</th>\n",
       "      <th>Name</th>\n",
       "      <th>Age</th>\n",
       "      <th>SibSp</th>\n",
       "      <th>Parch</th>\n",
       "      <th>Ticket</th>\n",
       "      <th>Fare</th>\n",
       "      <th>Pclass_1</th>\n",
       "      <th>Pclass_2</th>\n",
       "      <th>Pclass_3</th>\n",
       "      <th>Sex_female</th>\n",
       "      <th>Sex_male</th>\n",
       "      <th>Embarked_C</th>\n",
       "      <th>Embarked_Q</th>\n",
       "      <th>Embarked_S</th>\n",
       "    </tr>\n",
       "    <tr>\n",
       "      <th>PassengerId</th>\n",
       "      <th></th>\n",
       "      <th></th>\n",
       "      <th></th>\n",
       "      <th></th>\n",
       "      <th></th>\n",
       "      <th></th>\n",
       "      <th></th>\n",
       "      <th></th>\n",
       "      <th></th>\n",
       "      <th></th>\n",
       "      <th></th>\n",
       "      <th></th>\n",
       "      <th></th>\n",
       "      <th></th>\n",
       "      <th></th>\n",
       "    </tr>\n",
       "  </thead>\n",
       "  <tbody>\n",
       "    <tr>\n",
       "      <th>1</th>\n",
       "      <td>0</td>\n",
       "      <td>Braund, Mr. Owen Harris</td>\n",
       "      <td>22.0</td>\n",
       "      <td>1</td>\n",
       "      <td>0</td>\n",
       "      <td>A/5 21171</td>\n",
       "      <td>7.2500</td>\n",
       "      <td>0</td>\n",
       "      <td>0</td>\n",
       "      <td>1</td>\n",
       "      <td>0</td>\n",
       "      <td>1</td>\n",
       "      <td>0</td>\n",
       "      <td>0</td>\n",
       "      <td>1</td>\n",
       "    </tr>\n",
       "    <tr>\n",
       "      <th>2</th>\n",
       "      <td>1</td>\n",
       "      <td>Cumings, Mrs. John Bradley (Florence Briggs Th...</td>\n",
       "      <td>38.0</td>\n",
       "      <td>1</td>\n",
       "      <td>0</td>\n",
       "      <td>PC 17599</td>\n",
       "      <td>71.2833</td>\n",
       "      <td>1</td>\n",
       "      <td>0</td>\n",
       "      <td>0</td>\n",
       "      <td>1</td>\n",
       "      <td>0</td>\n",
       "      <td>1</td>\n",
       "      <td>0</td>\n",
       "      <td>0</td>\n",
       "    </tr>\n",
       "    <tr>\n",
       "      <th>3</th>\n",
       "      <td>1</td>\n",
       "      <td>Heikkinen, Miss. Laina</td>\n",
       "      <td>26.0</td>\n",
       "      <td>0</td>\n",
       "      <td>0</td>\n",
       "      <td>STON/O2. 3101282</td>\n",
       "      <td>7.9250</td>\n",
       "      <td>0</td>\n",
       "      <td>0</td>\n",
       "      <td>1</td>\n",
       "      <td>1</td>\n",
       "      <td>0</td>\n",
       "      <td>0</td>\n",
       "      <td>0</td>\n",
       "      <td>1</td>\n",
       "    </tr>\n",
       "    <tr>\n",
       "      <th>4</th>\n",
       "      <td>1</td>\n",
       "      <td>Futrelle, Mrs. Jacques Heath (Lily May Peel)</td>\n",
       "      <td>35.0</td>\n",
       "      <td>1</td>\n",
       "      <td>0</td>\n",
       "      <td>113803</td>\n",
       "      <td>53.1000</td>\n",
       "      <td>1</td>\n",
       "      <td>0</td>\n",
       "      <td>0</td>\n",
       "      <td>1</td>\n",
       "      <td>0</td>\n",
       "      <td>0</td>\n",
       "      <td>0</td>\n",
       "      <td>1</td>\n",
       "    </tr>\n",
       "    <tr>\n",
       "      <th>5</th>\n",
       "      <td>0</td>\n",
       "      <td>Allen, Mr. William Henry</td>\n",
       "      <td>35.0</td>\n",
       "      <td>0</td>\n",
       "      <td>0</td>\n",
       "      <td>373450</td>\n",
       "      <td>8.0500</td>\n",
       "      <td>0</td>\n",
       "      <td>0</td>\n",
       "      <td>1</td>\n",
       "      <td>0</td>\n",
       "      <td>1</td>\n",
       "      <td>0</td>\n",
       "      <td>0</td>\n",
       "      <td>1</td>\n",
       "    </tr>\n",
       "  </tbody>\n",
       "</table>\n",
       "</div>"
      ],
      "text/plain": [
       "             Survived  ... Embarked_S\n",
       "PassengerId            ...           \n",
       "1                   0  ...          1\n",
       "2                   1  ...          0\n",
       "3                   1  ...          1\n",
       "4                   1  ...          1\n",
       "5                   0  ...          1\n",
       "\n",
       "[5 rows x 15 columns]"
      ]
     },
     "execution_count": 19,
     "metadata": {},
     "output_type": "execute_result"
    }
   ],
   "source": [
    "# 원-핫 인코딩\n",
    "train_df = pd.get_dummies(train_df, columns=['Pclass', 'Sex', 'Embarked'])\n",
    "test_df = pd.get_dummies(test_df, columns=['Pclass', 'Sex', 'Embarked'])\n",
    "train_df.head()"
   ]
  },
  {
   "cell_type": "markdown",
   "metadata": {
    "id": "jDm--I6AUgUy"
   },
   "source": [
    "## 3-3. 불필요한 피처 삭제하기"
   ]
  },
  {
   "cell_type": "code",
   "execution_count": null,
   "metadata": {
    "id": "028G2vT7Um_f"
   },
   "outputs": [],
   "source": [
    "# 불필요한 피처 삭제하기\n",
    "drop_cols = ['Name', 'Ticket']\n",
    "train_df.drop(drop_cols, axis=1, inplace=True)\n",
    "\n",
    "test_df.drop(drop_cols, axis=1, inplace=True)"
   ]
  },
  {
   "cell_type": "code",
   "execution_count": null,
   "metadata": {
    "colab": {
     "base_uri": "https://localhost:8080/",
     "height": 235
    },
    "executionInfo": {
     "elapsed": 7,
     "status": "ok",
     "timestamp": 1637547877144,
     "user": {
      "displayName": "2419사호준",
      "photoUrl": "https://lh3.googleusercontent.com/a-/AOh14GjtMCFFKZoL4q2BNWA05z2l4_8G3VrKES9NIYI_=s64",
      "userId": "12472283199854937799"
     },
     "user_tz": -540
    },
    "id": "rj4iU-UMXqDF",
    "outputId": "eb51b506-a162-4ee2-ceb3-37acd7665ea0"
   },
   "outputs": [
    {
     "data": {
      "text/html": [
       "<div>\n",
       "<style scoped>\n",
       "    .dataframe tbody tr th:only-of-type {\n",
       "        vertical-align: middle;\n",
       "    }\n",
       "\n",
       "    .dataframe tbody tr th {\n",
       "        vertical-align: top;\n",
       "    }\n",
       "\n",
       "    .dataframe thead th {\n",
       "        text-align: right;\n",
       "    }\n",
       "</style>\n",
       "<table border=\"1\" class=\"dataframe\">\n",
       "  <thead>\n",
       "    <tr style=\"text-align: right;\">\n",
       "      <th></th>\n",
       "      <th>Survived</th>\n",
       "      <th>Age</th>\n",
       "      <th>SibSp</th>\n",
       "      <th>Parch</th>\n",
       "      <th>Fare</th>\n",
       "      <th>Pclass_1</th>\n",
       "      <th>Pclass_2</th>\n",
       "      <th>Pclass_3</th>\n",
       "      <th>Sex_female</th>\n",
       "      <th>Sex_male</th>\n",
       "      <th>Embarked_C</th>\n",
       "      <th>Embarked_Q</th>\n",
       "      <th>Embarked_S</th>\n",
       "    </tr>\n",
       "    <tr>\n",
       "      <th>PassengerId</th>\n",
       "      <th></th>\n",
       "      <th></th>\n",
       "      <th></th>\n",
       "      <th></th>\n",
       "      <th></th>\n",
       "      <th></th>\n",
       "      <th></th>\n",
       "      <th></th>\n",
       "      <th></th>\n",
       "      <th></th>\n",
       "      <th></th>\n",
       "      <th></th>\n",
       "      <th></th>\n",
       "    </tr>\n",
       "  </thead>\n",
       "  <tbody>\n",
       "    <tr>\n",
       "      <th>1</th>\n",
       "      <td>0</td>\n",
       "      <td>22.0</td>\n",
       "      <td>1</td>\n",
       "      <td>0</td>\n",
       "      <td>7.2500</td>\n",
       "      <td>0</td>\n",
       "      <td>0</td>\n",
       "      <td>1</td>\n",
       "      <td>0</td>\n",
       "      <td>1</td>\n",
       "      <td>0</td>\n",
       "      <td>0</td>\n",
       "      <td>1</td>\n",
       "    </tr>\n",
       "    <tr>\n",
       "      <th>2</th>\n",
       "      <td>1</td>\n",
       "      <td>38.0</td>\n",
       "      <td>1</td>\n",
       "      <td>0</td>\n",
       "      <td>71.2833</td>\n",
       "      <td>1</td>\n",
       "      <td>0</td>\n",
       "      <td>0</td>\n",
       "      <td>1</td>\n",
       "      <td>0</td>\n",
       "      <td>1</td>\n",
       "      <td>0</td>\n",
       "      <td>0</td>\n",
       "    </tr>\n",
       "    <tr>\n",
       "      <th>3</th>\n",
       "      <td>1</td>\n",
       "      <td>26.0</td>\n",
       "      <td>0</td>\n",
       "      <td>0</td>\n",
       "      <td>7.9250</td>\n",
       "      <td>0</td>\n",
       "      <td>0</td>\n",
       "      <td>1</td>\n",
       "      <td>1</td>\n",
       "      <td>0</td>\n",
       "      <td>0</td>\n",
       "      <td>0</td>\n",
       "      <td>1</td>\n",
       "    </tr>\n",
       "    <tr>\n",
       "      <th>4</th>\n",
       "      <td>1</td>\n",
       "      <td>35.0</td>\n",
       "      <td>1</td>\n",
       "      <td>0</td>\n",
       "      <td>53.1000</td>\n",
       "      <td>1</td>\n",
       "      <td>0</td>\n",
       "      <td>0</td>\n",
       "      <td>1</td>\n",
       "      <td>0</td>\n",
       "      <td>0</td>\n",
       "      <td>0</td>\n",
       "      <td>1</td>\n",
       "    </tr>\n",
       "    <tr>\n",
       "      <th>5</th>\n",
       "      <td>0</td>\n",
       "      <td>35.0</td>\n",
       "      <td>0</td>\n",
       "      <td>0</td>\n",
       "      <td>8.0500</td>\n",
       "      <td>0</td>\n",
       "      <td>0</td>\n",
       "      <td>1</td>\n",
       "      <td>0</td>\n",
       "      <td>1</td>\n",
       "      <td>0</td>\n",
       "      <td>0</td>\n",
       "      <td>1</td>\n",
       "    </tr>\n",
       "  </tbody>\n",
       "</table>\n",
       "</div>"
      ],
      "text/plain": [
       "             Survived   Age  SibSp  ...  Embarked_C  Embarked_Q  Embarked_S\n",
       "PassengerId                         ...                                    \n",
       "1                   0  22.0      1  ...           0           0           1\n",
       "2                   1  38.0      1  ...           1           0           0\n",
       "3                   1  26.0      0  ...           0           0           1\n",
       "4                   1  35.0      1  ...           0           0           1\n",
       "5                   0  35.0      0  ...           0           0           1\n",
       "\n",
       "[5 rows x 13 columns]"
      ]
     },
     "execution_count": 21,
     "metadata": {},
     "output_type": "execute_result"
    }
   ],
   "source": [
    "# 데이터 확인하기1\n",
    "train_df.head()"
   ]
  },
  {
   "cell_type": "code",
   "execution_count": null,
   "metadata": {
    "colab": {
     "base_uri": "https://localhost:8080/",
     "height": 235
    },
    "executionInfo": {
     "elapsed": 14,
     "status": "ok",
     "timestamp": 1637547877661,
     "user": {
      "displayName": "2419사호준",
      "photoUrl": "https://lh3.googleusercontent.com/a-/AOh14GjtMCFFKZoL4q2BNWA05z2l4_8G3VrKES9NIYI_=s64",
      "userId": "12472283199854937799"
     },
     "user_tz": -540
    },
    "id": "OgBpEgKpXrrv",
    "outputId": "8bd8039d-5fee-4bd5-89f4-b0d0831c627e"
   },
   "outputs": [
    {
     "data": {
      "text/html": [
       "<div>\n",
       "<style scoped>\n",
       "    .dataframe tbody tr th:only-of-type {\n",
       "        vertical-align: middle;\n",
       "    }\n",
       "\n",
       "    .dataframe tbody tr th {\n",
       "        vertical-align: top;\n",
       "    }\n",
       "\n",
       "    .dataframe thead th {\n",
       "        text-align: right;\n",
       "    }\n",
       "</style>\n",
       "<table border=\"1\" class=\"dataframe\">\n",
       "  <thead>\n",
       "    <tr style=\"text-align: right;\">\n",
       "      <th></th>\n",
       "      <th>Age</th>\n",
       "      <th>SibSp</th>\n",
       "      <th>Parch</th>\n",
       "      <th>Fare</th>\n",
       "      <th>Pclass_1</th>\n",
       "      <th>Pclass_2</th>\n",
       "      <th>Pclass_3</th>\n",
       "      <th>Sex_female</th>\n",
       "      <th>Sex_male</th>\n",
       "      <th>Embarked_C</th>\n",
       "      <th>Embarked_Q</th>\n",
       "      <th>Embarked_S</th>\n",
       "    </tr>\n",
       "    <tr>\n",
       "      <th>PassengerId</th>\n",
       "      <th></th>\n",
       "      <th></th>\n",
       "      <th></th>\n",
       "      <th></th>\n",
       "      <th></th>\n",
       "      <th></th>\n",
       "      <th></th>\n",
       "      <th></th>\n",
       "      <th></th>\n",
       "      <th></th>\n",
       "      <th></th>\n",
       "      <th></th>\n",
       "    </tr>\n",
       "  </thead>\n",
       "  <tbody>\n",
       "    <tr>\n",
       "      <th>892</th>\n",
       "      <td>34.5</td>\n",
       "      <td>0</td>\n",
       "      <td>0</td>\n",
       "      <td>7.8292</td>\n",
       "      <td>0</td>\n",
       "      <td>0</td>\n",
       "      <td>1</td>\n",
       "      <td>0</td>\n",
       "      <td>1</td>\n",
       "      <td>0</td>\n",
       "      <td>1</td>\n",
       "      <td>0</td>\n",
       "    </tr>\n",
       "    <tr>\n",
       "      <th>893</th>\n",
       "      <td>47.0</td>\n",
       "      <td>1</td>\n",
       "      <td>0</td>\n",
       "      <td>7.0000</td>\n",
       "      <td>0</td>\n",
       "      <td>0</td>\n",
       "      <td>1</td>\n",
       "      <td>1</td>\n",
       "      <td>0</td>\n",
       "      <td>0</td>\n",
       "      <td>0</td>\n",
       "      <td>1</td>\n",
       "    </tr>\n",
       "    <tr>\n",
       "      <th>894</th>\n",
       "      <td>62.0</td>\n",
       "      <td>0</td>\n",
       "      <td>0</td>\n",
       "      <td>9.6875</td>\n",
       "      <td>0</td>\n",
       "      <td>1</td>\n",
       "      <td>0</td>\n",
       "      <td>0</td>\n",
       "      <td>1</td>\n",
       "      <td>0</td>\n",
       "      <td>1</td>\n",
       "      <td>0</td>\n",
       "    </tr>\n",
       "    <tr>\n",
       "      <th>895</th>\n",
       "      <td>27.0</td>\n",
       "      <td>0</td>\n",
       "      <td>0</td>\n",
       "      <td>8.6625</td>\n",
       "      <td>0</td>\n",
       "      <td>0</td>\n",
       "      <td>1</td>\n",
       "      <td>0</td>\n",
       "      <td>1</td>\n",
       "      <td>0</td>\n",
       "      <td>0</td>\n",
       "      <td>1</td>\n",
       "    </tr>\n",
       "    <tr>\n",
       "      <th>896</th>\n",
       "      <td>22.0</td>\n",
       "      <td>1</td>\n",
       "      <td>1</td>\n",
       "      <td>12.2875</td>\n",
       "      <td>0</td>\n",
       "      <td>0</td>\n",
       "      <td>1</td>\n",
       "      <td>1</td>\n",
       "      <td>0</td>\n",
       "      <td>0</td>\n",
       "      <td>0</td>\n",
       "      <td>1</td>\n",
       "    </tr>\n",
       "  </tbody>\n",
       "</table>\n",
       "</div>"
      ],
      "text/plain": [
       "              Age  SibSp  Parch  ...  Embarked_C  Embarked_Q  Embarked_S\n",
       "PassengerId                      ...                                    \n",
       "892          34.5      0      0  ...           0           1           0\n",
       "893          47.0      1      0  ...           0           0           1\n",
       "894          62.0      0      0  ...           0           1           0\n",
       "895          27.0      0      0  ...           0           0           1\n",
       "896          22.0      1      1  ...           0           0           1\n",
       "\n",
       "[5 rows x 12 columns]"
      ]
     },
     "execution_count": 22,
     "metadata": {},
     "output_type": "execute_result"
    }
   ],
   "source": [
    "# 데이터 확인하기2\n",
    "test_df.head()"
   ]
  },
  {
   "cell_type": "markdown",
   "metadata": {
    "id": "VkR1AqCfL1PN"
   },
   "source": [
    "# 4. 데이터 분리하기"
   ]
  },
  {
   "cell_type": "code",
   "execution_count": null,
   "metadata": {
    "colab": {
     "base_uri": "https://localhost:8080/"
    },
    "executionInfo": {
     "elapsed": 10,
     "status": "ok",
     "timestamp": 1637547878139,
     "user": {
      "displayName": "2419사호준",
      "photoUrl": "https://lh3.googleusercontent.com/a-/AOh14GjtMCFFKZoL4q2BNWA05z2l4_8G3VrKES9NIYI_=s64",
      "userId": "12472283199854937799"
     },
     "user_tz": -540
    },
    "id": "bUcctdW7XpKZ",
    "outputId": "494a2270-0925-4593-9fa3-017dbbe2bab5"
   },
   "outputs": [
    {
     "data": {
      "text/plain": [
       "((712, 12), (179, 12))"
      ]
     },
     "execution_count": 23,
     "metadata": {},
     "output_type": "execute_result"
    }
   ],
   "source": [
    "# 데이터 분리하기\n",
    "from sklearn.model_selection import train_test_split\n",
    "\n",
    "X_train_all = train_df.drop('Survived', axis=1)\n",
    "y_train_all = train_df['Survived']\n",
    "\n",
    "X_train, X_test, y_train, y_test = train_test_split(X_train_all, y_train_all, test_size=0.2, random_state=11)\n",
    "X_train.shape, X_test.shape"
   ]
  },
  {
   "cell_type": "markdown",
   "metadata": {
    "id": "uVizn8mybB8_"
   },
   "source": [
    "# 5. 모델 선택 및 훈련하기"
   ]
  },
  {
   "cell_type": "code",
   "execution_count": null,
   "metadata": {
    "id": "HM9XCFf3Iy5l"
   },
   "outputs": [],
   "source": [
    "# 사이킷런 알고리즘 import하기\n",
    "from sklearn.tree import DecisionTreeClassifier\n",
    "from sklearn.ensemble import RandomForestClassifier\n",
    "from sklearn.linear_model import LogisticRegression\n",
    "from sklearn.model_selection import GridSearchCV"
   ]
  },
  {
   "cell_type": "code",
   "execution_count": null,
   "metadata": {
    "colab": {
     "base_uri": "https://localhost:8080/"
    },
    "executionInfo": {
     "elapsed": 1745,
     "status": "ok",
     "timestamp": 1637547881122,
     "user": {
      "displayName": "2419사호준",
      "photoUrl": "https://lh3.googleusercontent.com/a-/AOh14GjtMCFFKZoL4q2BNWA05z2l4_8G3VrKES9NIYI_=s64",
      "userId": "12472283199854937799"
     },
     "user_tz": -540
    },
    "id": "aDhrFwntbRDN",
    "outputId": "ac61e5e1-9e50-4a13-886b-055a5f71c8ec"
   },
   "outputs": [
    {
     "name": "stdout",
     "output_type": "stream",
     "text": [
      "best parameter: {'max_depth': 6, 'min_samples_split': 4}\n",
      "best score: 0.8048163104501131\n",
      "0.8581460674157303\n",
      "0.8547486033519553\n"
     ]
    }
   ],
   "source": [
    "# Decision Tree\n",
    "params = {\n",
    "    'max_depth': [4, 6, 8, 10, 12],\n",
    "    'min_samples_split': [2, 3, 4]\n",
    "}\n",
    "dt = DecisionTreeClassifier(random_state=11)\n",
    "\n",
    "gs1 = GridSearchCV(dt, param_grid=params, n_jobs=-1)\n",
    "\n",
    "gs1.fit(X_train, y_train)\n",
    "\n",
    "print('best parameter:', gs1.best_params_)\n",
    "print('best score:', gs1.best_score_)\n",
    "print(gs1.score(X_train, y_train))\n",
    "print(gs1.score(X_test, y_test))"
   ]
  },
  {
   "cell_type": "code",
   "execution_count": null,
   "metadata": {
    "colab": {
     "base_uri": "https://localhost:8080/"
    },
    "executionInfo": {
     "elapsed": 46714,
     "status": "ok",
     "timestamp": 1637547927824,
     "user": {
      "displayName": "2419사호준",
      "photoUrl": "https://lh3.googleusercontent.com/a-/AOh14GjtMCFFKZoL4q2BNWA05z2l4_8G3VrKES9NIYI_=s64",
      "userId": "12472283199854937799"
     },
     "user_tz": -540
    },
    "id": "0K8qWRm9eOnq",
    "outputId": "65fecf30-cf7b-4abe-c636-c03442e5e873"
   },
   "outputs": [
    {
     "name": "stdout",
     "output_type": "stream",
     "text": [
      "best parameter: {'max_depth': 10, 'min_samples_split': 4, 'n_estimators': 150}\n",
      "best score: 0.825874125874126\n",
      "0.925561797752809\n",
      "0.8547486033519553\n"
     ]
    }
   ],
   "source": [
    "# Random Forest\n",
    "params = {  \n",
    "    'max_depth': [4, 6, 8, 10, 12],\n",
    "    'min_samples_split': [2, 3, 4],\n",
    "    'n_estimators': [100, 125, 150]\n",
    "}\n",
    "rf = RandomForestClassifier(random_state=11)\n",
    "\n",
    "gs2 = GridSearchCV(rf, param_grid=params, n_jobs=-1)\n",
    "\n",
    "gs2.fit(X_train, y_train)\n",
    " \n",
    "print('best parameter:', gs2.best_params_)\n",
    "print('best score:', gs2.best_score_)\n",
    "print(gs2.score(X_train, y_train))\n",
    "print(gs2.score(X_test, y_test))"
   ]
  },
  {
   "cell_type": "code",
   "execution_count": null,
   "metadata": {
    "colab": {
     "base_uri": "https://localhost:8080/"
    },
    "executionInfo": {
     "elapsed": 2840,
     "status": "ok",
     "timestamp": 1637548433221,
     "user": {
      "displayName": "2419사호준",
      "photoUrl": "https://lh3.googleusercontent.com/a-/AOh14GjtMCFFKZoL4q2BNWA05z2l4_8G3VrKES9NIYI_=s64",
      "userId": "12472283199854937799"
     },
     "user_tz": -540
    },
    "id": "eS23CoN8eUa3",
    "outputId": "18495175-51e1-4488-ee80-da0d8d7b2bcc"
   },
   "outputs": [
    {
     "name": "stdout",
     "output_type": "stream",
     "text": [
      "best parameter: {'C': 0.1, 'max_iter': 500, 'penalty': 'l2'}\n",
      "best score: 0.7963853048360091\n",
      "0.7893258426966292\n",
      "0.8603351955307262\n"
     ]
    }
   ],
   "source": [
    "# Logistic Regression\n",
    "params = {\n",
    "    'penalty': ['l1', 'l2'],\n",
    "    'C': [0.01, 0.1, 1, 5, 10],\n",
    "    'max_iter': [500, 750, 1000]\n",
    "}\n",
    "lr = LogisticRegression(solver='liblinear')\n",
    "\n",
    "gs3 = GridSearchCV(lr, param_grid=params, n_jobs=-1)\n",
    "\n",
    "gs3.fit(X_train, y_train)\n",
    "\n",
    "print('best parameter:', gs3.best_params_)\n",
    "print('best score:', gs3.best_score_)\n",
    "print(gs3.score(X_train, y_train))\n",
    "print(gs3.score(X_test, y_test))"
   ]
  },
  {
   "cell_type": "markdown",
   "metadata": {
    "id": "D4hP1G6ihTM0"
   },
   "source": [
    "# 6. 모델 예측값 저장하기"
   ]
  },
  {
   "cell_type": "code",
   "execution_count": null,
   "metadata": {
    "colab": {
     "base_uri": "https://localhost:8080/"
    },
    "executionInfo": {
     "elapsed": 407,
     "status": "ok",
     "timestamp": 1637548501546,
     "user": {
      "displayName": "2419사호준",
      "photoUrl": "https://lh3.googleusercontent.com/a-/AOh14GjtMCFFKZoL4q2BNWA05z2l4_8G3VrKES9NIYI_=s64",
      "userId": "12472283199854937799"
     },
     "user_tz": -540
    },
    "id": "h00XLxxOhVM7",
    "outputId": "a018d3b9-dbd0-49de-c90f-230519fd6841"
   },
   "outputs": [
    {
     "data": {
      "text/plain": [
       "array([[34.5,  0. ,  0. , ...,  0. ,  1. ,  0. ],\n",
       "       [47. ,  1. ,  0. , ...,  0. ,  0. ,  1. ],\n",
       "       [62. ,  0. ,  0. , ...,  0. ,  1. ,  0. ],\n",
       "       ...,\n",
       "       [38.5,  0. ,  0. , ...,  0. ,  0. ,  1. ],\n",
       "       [27. ,  0. ,  0. , ...,  0. ,  0. ,  1. ],\n",
       "       [27. ,  1. ,  1. , ...,  1. ,  0. ,  0. ]])"
      ]
     },
     "execution_count": 32,
     "metadata": {},
     "output_type": "execute_result"
    }
   ],
   "source": [
    "# test.csv : 2차원 배열로 변환하기\n",
    "pred_input = test_df.values\n",
    "pred_input"
   ]
  },
  {
   "cell_type": "code",
   "execution_count": null,
   "metadata": {
    "colab": {
     "base_uri": "https://localhost:8080/"
    },
    "executionInfo": {
     "elapsed": 519,
     "status": "ok",
     "timestamp": 1637548566787,
     "user": {
      "displayName": "2419사호준",
      "photoUrl": "https://lh3.googleusercontent.com/a-/AOh14GjtMCFFKZoL4q2BNWA05z2l4_8G3VrKES9NIYI_=s64",
      "userId": "12472283199854937799"
     },
     "user_tz": -540
    },
    "id": "_c-l2XdKj76m",
    "outputId": "693f4dde-b6b1-4a3a-8ef2-4a9894249344"
   },
   "outputs": [
    {
     "name": "stderr",
     "output_type": "stream",
     "text": [
      "/usr/local/lib/python3.7/dist-packages/sklearn/base.py:446: UserWarning: X does not have valid feature names, but DecisionTreeClassifier was fitted with feature names\n",
      "  \"X does not have valid feature names, but\"\n",
      "/usr/local/lib/python3.7/dist-packages/sklearn/base.py:446: UserWarning: X does not have valid feature names, but RandomForestClassifier was fitted with feature names\n",
      "  \"X does not have valid feature names, but\"\n",
      "/usr/local/lib/python3.7/dist-packages/sklearn/base.py:446: UserWarning: X does not have valid feature names, but LogisticRegression was fitted with feature names\n",
      "  \"X does not have valid feature names, but\"\n"
     ]
    }
   ],
   "source": [
    "# 모델 예측값 얻기\n",
    "best_dt = gs1.best_estimator_\n",
    "pred_dt = best_dt.predict(pred_input)\n",
    "\n",
    "best_rf = gs2.best_estimator_\n",
    "pred_rf = best_rf.predict(pred_input)\n",
    "\n",
    "best_lr = gs3.best_estimator_\n",
    "pred_lr = best_lr.predict(pred_input)"
   ]
  },
  {
   "cell_type": "code",
   "execution_count": null,
   "metadata": {
    "id": "nzZVjoDLl80Y"
   },
   "outputs": [],
   "source": [
    "# 파일 저장하기\n",
    "output = pd.DataFrame({\n",
    "    'PassengerId': test_df.index,\n",
    "    'Survived': pred_lr})\n",
    "\n",
    "output.to_csv('/content/drive/MyDrive/datasets/titanic/my_submission.csv', index=False)"
   ]
  },
  {
   "cell_type": "code",
   "execution_count": null,
   "metadata": {
    "id": "qxvGqHqidaxU"
   },
   "outputs": [],
   "source": []
  }
 ],
 "metadata": {
  "accelerator": "GPU",
  "colab": {
   "collapsed_sections": [],
   "name": "2-5. 분류 (타이타닉 생존자 예측하기)의 사본",
   "provenance": [
    {
     "file_id": "1jnOrQOwMwqxctqFXG24TlSSHRVnjeom8",
     "timestamp": 1637028205297
    },
    {
     "file_id": "1uZEl8sNPY5yNHPLc1nah2GGz0uJdXp_Q",
     "timestamp": 1636894978837
    },
    {
     "file_id": "1ljKLlzDD9VKvfhCBH_xt_hBs0icixhQO",
     "timestamp": 1635693812164
    }
   ]
  },
  "kernelspec": {
   "display_name": "Python 3 (ipykernel)",
   "language": "python",
   "name": "python3"
  },
  "language_info": {
   "name": "python"
  }
 },
 "nbformat": 4,
 "nbformat_minor": 4
}
